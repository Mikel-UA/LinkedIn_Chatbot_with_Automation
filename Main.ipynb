{
 "cells": [
  {
   "cell_type": "code",
   "execution_count": 1,
   "id": "8be89533",
   "metadata": {},
   "outputs": [],
   "source": [
    "import config "
   ]
  },
  {
   "cell_type": "code",
   "execution_count": null,
   "id": "47e31783",
   "metadata": {},
   "outputs": [
    {
     "name": "stdout",
     "output_type": "stream",
     "text": [
      "importing Jupyter notebook from Scrapper.ipynb\n",
      "importing Jupyter notebook from Model.ipynb\n"
     ]
    },
    {
     "name": "stderr",
     "output_type": "stream",
     "text": [
      "Special tokens have been added in the vocabulary, make sure the associated word embeddings are fine-tuned or trained.\n",
      "Special tokens have been added in the vocabulary, make sure the associated word embeddings are fine-tuned or trained.\n"
     ]
    }
   ],
   "source": [
    "import import_ipynb\n",
    "import Scrapper  "
   ]
  },
  {
   "cell_type": "code",
   "execution_count": null,
   "id": "585dbfaf",
   "metadata": {},
   "outputs": [],
   "source": [
    "def main():\n",
    "    driver=Scrapper.open_browser()\n",
    "    Scrapper.navigate(driver)\n",
    "    Scrapper.login(driver)\n",
    "    Scrapper.search(driver)\n",
    "    Scrapper.get_page_content(driver)\n",
    "\n",
    "    # Number of recruiters to be contacted in this stage\n",
    "    #num = input(\"Number of recruiters to be contacted: \")\n",
    "    num=config.users_to_contact\n",
    "    Scrapper.send_invitations(num, driver)\n",
    "    \n",
    "    #invitations sent, its time to check messages\n",
    "    while True:\n",
    "        Scrapper.get_messages2(driver)\n",
    "\n",
    "if __name__=='__main__':\n",
    "    main()"
   ]
  }
 ],
 "metadata": {
  "kernelspec": {
   "display_name": "Python 3 (ipykernel)",
   "language": "python",
   "name": "python3"
  },
  "language_info": {
   "codemirror_mode": {
    "name": "ipython",
    "version": 3
   },
   "file_extension": ".py",
   "mimetype": "text/x-python",
   "name": "python",
   "nbconvert_exporter": "python",
   "pygments_lexer": "ipython3",
   "version": "3.11.4"
  }
 },
 "nbformat": 4,
 "nbformat_minor": 5
}
